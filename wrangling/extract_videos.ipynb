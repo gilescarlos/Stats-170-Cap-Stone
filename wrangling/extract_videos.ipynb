{
 "cells": [
  {
   "attachments": {},
   "cell_type": "markdown",
   "metadata": {},
   "source": [
    "# Import Libraries"
   ]
  },
  {
   "cell_type": "code",
   "execution_count": 1,
   "metadata": {},
   "outputs": [],
   "source": [
    "import cv2 \n",
    "import numpy as np\n",
    "from pathlib import Path\n"
   ]
  },
  {
   "attachments": {},
   "cell_type": "markdown",
   "metadata": {},
   "source": [
    "# Accessing Correct Directory for Videos"
   ]
  },
  {
   "cell_type": "code",
   "execution_count": 2,
   "metadata": {},
   "outputs": [],
   "source": [
    "# getting path to whole project as a string\n",
    "root = str(Path.cwd().parent)\n",
    "\n",
    "# creating path object to data folder\n",
    "data_dir  = Path(root + \"/data\")\n",
    "\n",
    "# create list of ladder beam MP4 videos \n",
    "videos = list(data_dir.glob(\"ladder beam videos/*.MP4\"))"
   ]
  },
  {
   "attachments": {},
   "cell_type": "markdown",
   "metadata": {},
   "source": [
    "# Load First Video"
   ]
  },
  {
   "attachments": {},
   "cell_type": "markdown",
   "metadata": {},
   "source": [
    "### Function to watch video"
   ]
  },
  {
   "cell_type": "code",
   "execution_count": 18,
   "metadata": {},
   "outputs": [],
   "source": [
    "def watch_video(p: Path): \n",
    "    # create VideoCapture object with first video\n",
    "    cap = cv2.VideoCapture(p)\n",
    "\n",
    "    cv2.startWindowThread()\n",
    "\n",
    "    # Check if video opened successfully\n",
    "    if (cap.isOpened() == False):\n",
    "        print(\"Error opening video file.\")\n",
    "\n",
    "    # Read until video is completed\n",
    "    while cap.isOpened():\n",
    "        # Capture frame by frame\n",
    "        ret, frame = cap.read()\n",
    "        if ret:\n",
    "            cv2.imshow('Frame', frame)\n",
    "\n",
    "            key = cv2.waitKey(1)\n",
    "            # Press Q to quit\n",
    "            if key == ord('q'):\n",
    "                break\n",
    "            # Press P to pause\n",
    "            if key == ord('p'):\n",
    "                cv2.waitKey(-1)\n",
    "        else:\n",
    "            break\n",
    "    cap.release()\n",
    "    cv2.destroyWindow('Frame')\n",
    "\n",
    "    # solution to weird bug to close video window\n",
    "    for i in range(4):\n",
    "        cv2.waitKey(1)\n",
    "\n",
    "    \n"
   ]
  },
  {
   "attachments": {},
   "cell_type": "markdown",
   "metadata": {},
   "source": [
    "### Test Function"
   ]
  },
  {
   "cell_type": "code",
   "execution_count": 19,
   "metadata": {},
   "outputs": [],
   "source": [
    "watch_video(str(videos[0]))"
   ]
  }
 ],
 "metadata": {
  "kernelspec": {
   "display_name": "base",
   "language": "python",
   "name": "python3"
  },
  "language_info": {
   "codemirror_mode": {
    "name": "ipython",
    "version": 3
   },
   "file_extension": ".py",
   "mimetype": "text/x-python",
   "name": "python",
   "nbconvert_exporter": "python",
   "pygments_lexer": "ipython3",
   "version": "3.8.8"
  },
  "orig_nbformat": 4
 },
 "nbformat": 4,
 "nbformat_minor": 2
}
